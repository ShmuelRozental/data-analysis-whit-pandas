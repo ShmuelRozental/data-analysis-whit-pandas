{
 "cells": [
  {
   "cell_type": "code",
   "execution_count": null,
   "id": "6a9e9f5945c1b169",
   "metadata": {},
   "outputs": [],
   "source": []
  },
  {
   "cell_type": "markdown",
   "id": "2b8e938eb34b0315",
   "metadata": {},
   "source": [
    "# Exercise: Exploratory Data Analysis with Pandas\n",
    "## Instructions\n",
    "1. Data Collection\n",
    "    - Search and collect data on the following: (1993 - 2023)\n",
    "        - Israel interest tares\n",
    "        - US interest rates\n",
    "        - USD to ILS exchange rates\n",
    "    - For each dataset, create a pandas DataFrame with the following columns:\n",
    "        - Year\n",
    "        - Month\n",
    "        - Current_Rate (Interest rate or exchange rate for that month)\n",
    "        - Change_From_Last_Month (Difference in Current_Rate from the previous month)\n",
    "        - Optional: You may include additional columns if you find them useful (e.g., Change_Percentage, Date).\n",
    "\n"
   ]
  },
  {
   "cell_type": "code",
   "execution_count": 1,
   "id": "17a7b132e53c5faa",
   "metadata": {},
   "outputs": [],
   "source": [
    "import pandas as pd"
   ]
  },
  {
   "cell_type": "code",
   "execution_count": null,
   "id": "8fb38157aa6333f3",
   "metadata": {},
   "outputs": [
    {
     "name": "stdout",
     "output_type": "stream",
     "text": [
      "Index(['SERIES_CODE', 'שם סדרה', 'FREQ', 'תדירות', 'IR_FV_TYPE', 'סוג ריבית',\n",
      "       'DATA_SOURCE', 'מקור נתונים', 'TIME_COLLECT', 'אופן חישוב בתקופת זמן',\n",
      "       'CONF_STATUS', 'סיווג סודיות', 'UNIT_MEASURE', 'יחידות מידה',\n",
      "       'UNIT_MULT', 'מכפיל יחידות', 'TIME_PERIOD', 'OBS_VALUE',\n",
      "       'RELEASE_STATUS', 'שחרור תצפית'],\n",
      "      dtype='object')\n",
      "Index(['Date', 'Price', 'Open', 'High', 'Low', 'Vol.', 'Change %'], dtype='object')\n",
      "Index(['Date', 'Price', 'Open', 'High', 'Low', 'Vol.', 'Change %'], dtype='object')\n"
     ]
    }
   ],
   "source": [
    "israel_df  = pd.read_csv('./data/BR (1).csv')\n",
    "us_df  = pd.read_csv('./data/USD_ILS Historical Data.csv')\n",
    "exchange_df  = pd.read_csv('./data/USD_ILS Historical Data.csv')\n",
    "print(israel_df.columns)\n",
    "print(us_df.columns)\n",
    "print(exchange_df.columns)\n",
    "\n"
   ]
  },
  {
   "cell_type": "code",
   "execution_count": null,
   "id": "30589057",
   "metadata": {},
   "outputs": [
    {
     "data": {
      "text/plain": [
       "Index(['Year', 'Month', 'Current_Rate', 'Change_From_Last_Month'], dtype='object')"
      ]
     },
     "execution_count": 3,
     "metadata": {},
     "output_type": "execute_result"
    }
   ],
   "source": [
    "\n",
    "israel_df['Year'] = pd.to_datetime(israel_df['TIME_PERIOD']).dt.year\n",
    "israel_df['Month'] = pd.to_datetime(israel_df['TIME_PERIOD']).dt.month\n",
    "israel_df['Current_Rate'] = israel_df['OBS_VALUE']\n",
    "\n",
    "israel_df = israel_df[['Year', 'Month', 'Current_Rate']]\n",
    "\n",
    "israel_df['Change_From_Last_Month'] = israel_df['Current_Rate'].diff()\n",
    "israel_df = israel_df[(israel_df['Year'] > 1993) & (israel_df['Year'] <= 2023)]\n",
    "\n",
    "\n",
    "us_df['Year'] = pd.to_datetime(us_df['Date']).dt.year\n",
    "us_df['Month'] = pd.to_datetime(us_df['Date']).dt.month\n",
    "us_df['Current_Rate'] = us_df['Price']\n",
    "\n",
    "us_df = us_df[['Year', 'Month', 'Current_Rate']]\n",
    "\n",
    "us_df['Change_From_Last_Month'] = us_df['Current_Rate'].diff()\n",
    "us_df = us_df[(us_df['Year'] > 1993) & (us_df['Year'] <= 2023)]\n",
    "\n",
    "\n",
    "exchange_df['Year'] = pd.to_datetime(exchange_df['Date']).dt.year\n",
    "exchange_df['Month'] = pd.to_datetime(exchange_df['Date']).dt.month\n",
    "exchange_df['Current_Rate'] = exchange_df['Price']\n",
    "\n",
    "exchange_df = exchange_df[['Year', 'Month', 'Current_Rate']]\n",
    "\n",
    "exchange_df['Change_From_Last_Month'] = exchange_df['Current_Rate'].diff()\n",
    "exchange_df = exchange_df[(exchange_df['Year'] > 1993) & (exchange_df['Year'] <= 2023)]\n",
    "\n",
    "\n",
    "\n",
    "\n",
    "\n",
    "\n"
   ]
  },
  {
   "cell_type": "markdown",
   "id": "71323c7318598fbb",
   "metadata": {},
   "source": [
    "## Part A: Single DataFrame Analysis \n",
    "1. Display the first 5 rows of the US interest rates DataFrame.\n",
    "\n",
    "2. Calculate the average Israeli interest rate over the period covered by your data.\n",
    "\n",
    "3. Find the month and year when the USD to ILS exchange rate had the highest increase from the previous month.\n",
    "\n",
    "4. Determine the total number of months where the US interest rate decreased compared to the previous month.\n",
    "\n",
    "5. Add a new column to the Israeli interest rates DataFrame called Change_Percentage, representing the percentage change from the previous month.\n",
    "\n"
   ]
  },
  {
   "cell_type": "code",
   "execution_count": null,
   "id": "399887d7fba8803a",
   "metadata": {
    "ExecuteTime": {
     "end_time": "2024-11-07T00:06:28.045691Z",
     "start_time": "2024-11-07T00:06:28.043900Z"
    }
   },
   "outputs": [
    {
     "data": {
      "text/plain": [
       "<bound method DataFrame.any of Empty DataFrame\n",
       "Columns: [Year, Month, Current_Rate, Change_From_Last_Month]\n",
       "Index: []>"
      ]
     },
     "execution_count": 11,
     "metadata": {},
     "output_type": "execute_result"
    }
   ],
   "source": [
    "# A - 1\n",
    "first_five_rows = us_df.head(5)\n",
    "first_five_rows\n"
   ]
  },
  {
   "cell_type": "code",
   "execution_count": null,
   "id": "91d022cc344514de",
   "metadata": {
    "ExecuteTime": {
     "end_time": "2024-11-07T00:06:49.986484Z",
     "start_time": "2024-11-07T00:06:49.984372Z"
    }
   },
   "outputs": [
    {
     "name": "stdout",
     "output_type": "stream",
     "text": [
      " average_interest: 4.880738267313146\n"
     ]
    }
   ],
   "source": [
    "# A - 2\n",
    "average_interest_rate =israel_df ['Current_Rate'].mean()\n",
    "print(\" average interest:\", average_interest_rate)\n"
   ]
  },
  {
   "cell_type": "code",
   "execution_count": null,
   "id": "c29c363cd4e9a279",
   "metadata": {
    "ExecuteTime": {
     "end_time": "2024-11-07T00:06:53.867357Z",
     "start_time": "2024-11-07T00:06:53.865505Z"
    }
   },
   "outputs": [
    {
     "name": "stdout",
     "output_type": "stream",
     "text": [
      "Year                      2023.0000\n",
      "Month                       10.0000\n",
      "Change_From_Last_Month       0.3138\n",
      "Name: 13, dtype: float64\n"
     ]
    }
   ],
   "source": [
    "# A - 3\n",
    "highest_increase_index = exchange_df['Change_From_Last_Month'].idxmax()\n",
    "highest_increase_row = exchange_df.loc[highest_increase_index, ['Year', 'Month', 'Change_From_Last_Month']]\n",
    "\n",
    "print(highest_increase_row)"
   ]
  },
  {
   "cell_type": "code",
   "execution_count": 26,
   "id": "c4c8ec122d04672",
   "metadata": {
    "ExecuteTime": {
     "end_time": "2024-11-07T00:06:56.963009Z",
     "start_time": "2024-11-07T00:06:56.960675Z"
    }
   },
   "outputs": [
    {
     "name": "stdout",
     "output_type": "stream",
     "text": [
      "The total number of months with a decrease in US interest rate is 7.\n"
     ]
    }
   ],
   "source": [
    "# A - 4\n",
    "decrease_count = (us_df['Change_From_Last_Month'] < 0).sum()\n",
    "\n",
    "print(f\"The total number of months with a decrease in US interest rate is {decrease_count}.\")\n"
   ]
  },
  {
   "cell_type": "code",
   "execution_count": 13,
   "id": "49115d5dbff52532",
   "metadata": {},
   "outputs": [
    {
     "name": "stdout",
     "output_type": "stream",
     "text": [
      "    Year  Month  Current_Rate  Change_From_Last_Month  Change_Percentage\n",
      "0   1994      1          10.5                     NaN                NaN\n",
      "1   1994      1          10.5                     0.0                0.0\n",
      "2   1994      1          10.5                     0.0                0.0\n",
      "3   1994      1          10.5                     0.0                0.0\n",
      "4   1994      1          10.5                     0.0                0.0\n",
      "5   1994      2          10.5                     0.0                0.0\n",
      "6   1994      2          10.5                     0.0                0.0\n",
      "7   1994      2          10.5                     0.0                0.0\n",
      "8   1994      2          10.5                     0.0                0.0\n",
      "9   1994      2          10.5                     0.0                0.0\n",
      "10  1994      2          10.5                     0.0                0.0\n",
      "11  1994      2          10.5                     0.0                0.0\n",
      "12  1994      2          10.5                     0.0                0.0\n",
      "13  1994      2          10.5                     0.0                0.0\n",
      "14  1994      2          10.5                     0.0                0.0\n",
      "15  1994      2          10.5                     0.0                0.0\n",
      "16  1994      2          10.5                     0.0                0.0\n",
      "17  1994      2          10.5                     0.0                0.0\n",
      "18  1994      2          10.5                     0.0                0.0\n",
      "19  1994      2          10.5                     0.0                0.0\n"
     ]
    }
   ],
   "source": [
    "# A - 5\n",
    "israel_df['Change_Percentage'] = (israel_df['Change_From_Last_Month'] / israel_df['Current_Rate'].shift(1)) * 100\n",
    "\n",
    "\n",
    "print(israel_df.head(20))\n"
   ]
  },
  {
   "cell_type": "markdown",
   "id": "37324394ba9e1454",
   "metadata": {},
   "source": [
    "## Part B: Merging DataFrames\n",
    "1. Merge the US and Israeli interest rates DataFrames on Year and Month.\n",
    "\n",
    "2. In the merged DataFrame, create a new column Rate_Difference that shows the difference between the Israeli and US interest rates for each month.\n",
    "\n",
    "3. Identify all months when the Israeli interest rate was at least 1% higher than the US interest rate - IH (Israeli Higher).\n",
    "Identify all months when the US interest rate was at least 1% higher than the Israeli interest rate - UH (US Higher).\n",
    "Identify all months when the interest rates were within 1% of each other - N (Near)\n",
    "make a new column called Rate_Comparison with the following values: IH, UH, or N.\n",
    "\n",
    "4. Merge the exchange rate DataFrame with the merged interest rates DataFrame.\n",
    "\n",
    "5. After merging all three DataFrames, find the correlation between the Rate_Difference and the Current_Rate of the exchange rate.\n",
    "hint: find the connection between the difference in interest rates and the exchange rates, use any method you think is appropriate.\n",
    "provide an explanation of the results (in Hebrew) - at least 2 rows of text + a proof of the connection(some output) you found.\n"
   ]
  },
  {
   "cell_type": "code",
   "execution_count": 31,
   "id": "f6fcdba8d4d32d73",
   "metadata": {
    "ExecuteTime": {
     "end_time": "2024-11-07T00:06:02.968903Z",
     "start_time": "2024-11-07T00:06:02.967090Z"
    }
   },
   "outputs": [
    {
     "data": {
      "text/html": [
       "<div>\n",
       "<style scoped>\n",
       "    .dataframe tbody tr th:only-of-type {\n",
       "        vertical-align: middle;\n",
       "    }\n",
       "\n",
       "    .dataframe tbody tr th {\n",
       "        vertical-align: top;\n",
       "    }\n",
       "\n",
       "    .dataframe thead th {\n",
       "        text-align: right;\n",
       "    }\n",
       "</style>\n",
       "<table border=\"1\" class=\"dataframe\">\n",
       "  <thead>\n",
       "    <tr style=\"text-align: right;\">\n",
       "      <th></th>\n",
       "      <th>Year</th>\n",
       "      <th>Month</th>\n",
       "      <th>Current_Rate_US</th>\n",
       "      <th>Change_From_Last_Month_US</th>\n",
       "      <th>Current_Rate_Israel</th>\n",
       "      <th>Change_From_Last_Month_Israel</th>\n",
       "      <th>Change_Percentage</th>\n",
       "    </tr>\n",
       "  </thead>\n",
       "  <tbody>\n",
       "    <tr>\n",
       "      <th>0</th>\n",
       "      <td>2023</td>\n",
       "      <td>12</td>\n",
       "      <td>3.6008</td>\n",
       "      <td>-0.0368</td>\n",
       "      <td>4.75</td>\n",
       "      <td>0.0</td>\n",
       "      <td>0.0</td>\n",
       "    </tr>\n",
       "    <tr>\n",
       "      <th>1</th>\n",
       "      <td>2023</td>\n",
       "      <td>12</td>\n",
       "      <td>3.6008</td>\n",
       "      <td>-0.0368</td>\n",
       "      <td>4.75</td>\n",
       "      <td>0.0</td>\n",
       "      <td>0.0</td>\n",
       "    </tr>\n",
       "    <tr>\n",
       "      <th>2</th>\n",
       "      <td>2023</td>\n",
       "      <td>12</td>\n",
       "      <td>3.6008</td>\n",
       "      <td>-0.0368</td>\n",
       "      <td>4.75</td>\n",
       "      <td>0.0</td>\n",
       "      <td>0.0</td>\n",
       "    </tr>\n",
       "    <tr>\n",
       "      <th>3</th>\n",
       "      <td>2023</td>\n",
       "      <td>12</td>\n",
       "      <td>3.6008</td>\n",
       "      <td>-0.0368</td>\n",
       "      <td>4.75</td>\n",
       "      <td>0.0</td>\n",
       "      <td>0.0</td>\n",
       "    </tr>\n",
       "    <tr>\n",
       "      <th>4</th>\n",
       "      <td>2023</td>\n",
       "      <td>12</td>\n",
       "      <td>3.6008</td>\n",
       "      <td>-0.0368</td>\n",
       "      <td>4.75</td>\n",
       "      <td>0.0</td>\n",
       "      <td>0.0</td>\n",
       "    </tr>\n",
       "    <tr>\n",
       "      <th>...</th>\n",
       "      <td>...</td>\n",
       "      <td>...</td>\n",
       "      <td>...</td>\n",
       "      <td>...</td>\n",
       "      <td>...</td>\n",
       "      <td>...</td>\n",
       "      <td>...</td>\n",
       "    </tr>\n",
       "    <tr>\n",
       "      <th>391</th>\n",
       "      <td>2022</td>\n",
       "      <td>12</td>\n",
       "      <td>3.5177</td>\n",
       "      <td>0.0685</td>\n",
       "      <td>3.25</td>\n",
       "      <td>0.0</td>\n",
       "      <td>0.0</td>\n",
       "    </tr>\n",
       "    <tr>\n",
       "      <th>392</th>\n",
       "      <td>2022</td>\n",
       "      <td>12</td>\n",
       "      <td>3.5177</td>\n",
       "      <td>0.0685</td>\n",
       "      <td>3.25</td>\n",
       "      <td>0.0</td>\n",
       "      <td>0.0</td>\n",
       "    </tr>\n",
       "    <tr>\n",
       "      <th>393</th>\n",
       "      <td>2022</td>\n",
       "      <td>12</td>\n",
       "      <td>3.5177</td>\n",
       "      <td>0.0685</td>\n",
       "      <td>3.25</td>\n",
       "      <td>0.0</td>\n",
       "      <td>0.0</td>\n",
       "    </tr>\n",
       "    <tr>\n",
       "      <th>394</th>\n",
       "      <td>2022</td>\n",
       "      <td>12</td>\n",
       "      <td>3.5177</td>\n",
       "      <td>0.0685</td>\n",
       "      <td>3.25</td>\n",
       "      <td>0.0</td>\n",
       "      <td>0.0</td>\n",
       "    </tr>\n",
       "    <tr>\n",
       "      <th>395</th>\n",
       "      <td>2022</td>\n",
       "      <td>12</td>\n",
       "      <td>3.5177</td>\n",
       "      <td>0.0685</td>\n",
       "      <td>3.25</td>\n",
       "      <td>0.0</td>\n",
       "      <td>0.0</td>\n",
       "    </tr>\n",
       "  </tbody>\n",
       "</table>\n",
       "<p>396 rows × 7 columns</p>\n",
       "</div>"
      ],
      "text/plain": [
       "     Year  Month  Current_Rate_US  Change_From_Last_Month_US  \\\n",
       "0    2023     12           3.6008                    -0.0368   \n",
       "1    2023     12           3.6008                    -0.0368   \n",
       "2    2023     12           3.6008                    -0.0368   \n",
       "3    2023     12           3.6008                    -0.0368   \n",
       "4    2023     12           3.6008                    -0.0368   \n",
       "..    ...    ...              ...                        ...   \n",
       "391  2022     12           3.5177                     0.0685   \n",
       "392  2022     12           3.5177                     0.0685   \n",
       "393  2022     12           3.5177                     0.0685   \n",
       "394  2022     12           3.5177                     0.0685   \n",
       "395  2022     12           3.5177                     0.0685   \n",
       "\n",
       "     Current_Rate_Israel  Change_From_Last_Month_Israel  Change_Percentage  \n",
       "0                   4.75                            0.0                0.0  \n",
       "1                   4.75                            0.0                0.0  \n",
       "2                   4.75                            0.0                0.0  \n",
       "3                   4.75                            0.0                0.0  \n",
       "4                   4.75                            0.0                0.0  \n",
       "..                   ...                            ...                ...  \n",
       "391                 3.25                            0.0                0.0  \n",
       "392                 3.25                            0.0                0.0  \n",
       "393                 3.25                            0.0                0.0  \n",
       "394                 3.25                            0.0                0.0  \n",
       "395                 3.25                            0.0                0.0  \n",
       "\n",
       "[396 rows x 7 columns]"
      ]
     },
     "execution_count": 31,
     "metadata": {},
     "output_type": "execute_result"
    }
   ],
   "source": [
    "# B - 1\n",
    "merged_df = pd.merge(us_df, israel_df, on=['Year', 'Month'], suffixes=('_US', '_Israel'))\n",
    "merged_df"
   ]
  },
  {
   "cell_type": "code",
   "execution_count": 32,
   "id": "7f18978fee56c6d6",
   "metadata": {
    "ExecuteTime": {
     "end_time": "2024-11-07T00:06:08.105790Z",
     "start_time": "2024-11-07T00:06:08.103620Z"
    }
   },
   "outputs": [
    {
     "data": {
      "text/html": [
       "<div>\n",
       "<style scoped>\n",
       "    .dataframe tbody tr th:only-of-type {\n",
       "        vertical-align: middle;\n",
       "    }\n",
       "\n",
       "    .dataframe tbody tr th {\n",
       "        vertical-align: top;\n",
       "    }\n",
       "\n",
       "    .dataframe thead th {\n",
       "        text-align: right;\n",
       "    }\n",
       "</style>\n",
       "<table border=\"1\" class=\"dataframe\">\n",
       "  <thead>\n",
       "    <tr style=\"text-align: right;\">\n",
       "      <th></th>\n",
       "      <th>Year</th>\n",
       "      <th>Month</th>\n",
       "      <th>Current_Rate_US</th>\n",
       "      <th>Change_From_Last_Month_US</th>\n",
       "      <th>Current_Rate_Israel</th>\n",
       "      <th>Change_From_Last_Month_Israel</th>\n",
       "      <th>Change_Percentage</th>\n",
       "      <th>Rate_Difference</th>\n",
       "    </tr>\n",
       "  </thead>\n",
       "  <tbody>\n",
       "    <tr>\n",
       "      <th>0</th>\n",
       "      <td>2023</td>\n",
       "      <td>12</td>\n",
       "      <td>3.6008</td>\n",
       "      <td>-0.0368</td>\n",
       "      <td>4.75</td>\n",
       "      <td>0.0</td>\n",
       "      <td>0.0</td>\n",
       "      <td>1.1492</td>\n",
       "    </tr>\n",
       "    <tr>\n",
       "      <th>1</th>\n",
       "      <td>2023</td>\n",
       "      <td>12</td>\n",
       "      <td>3.6008</td>\n",
       "      <td>-0.0368</td>\n",
       "      <td>4.75</td>\n",
       "      <td>0.0</td>\n",
       "      <td>0.0</td>\n",
       "      <td>1.1492</td>\n",
       "    </tr>\n",
       "    <tr>\n",
       "      <th>2</th>\n",
       "      <td>2023</td>\n",
       "      <td>12</td>\n",
       "      <td>3.6008</td>\n",
       "      <td>-0.0368</td>\n",
       "      <td>4.75</td>\n",
       "      <td>0.0</td>\n",
       "      <td>0.0</td>\n",
       "      <td>1.1492</td>\n",
       "    </tr>\n",
       "    <tr>\n",
       "      <th>3</th>\n",
       "      <td>2023</td>\n",
       "      <td>12</td>\n",
       "      <td>3.6008</td>\n",
       "      <td>-0.0368</td>\n",
       "      <td>4.75</td>\n",
       "      <td>0.0</td>\n",
       "      <td>0.0</td>\n",
       "      <td>1.1492</td>\n",
       "    </tr>\n",
       "    <tr>\n",
       "      <th>4</th>\n",
       "      <td>2023</td>\n",
       "      <td>12</td>\n",
       "      <td>3.6008</td>\n",
       "      <td>-0.0368</td>\n",
       "      <td>4.75</td>\n",
       "      <td>0.0</td>\n",
       "      <td>0.0</td>\n",
       "      <td>1.1492</td>\n",
       "    </tr>\n",
       "    <tr>\n",
       "      <th>...</th>\n",
       "      <td>...</td>\n",
       "      <td>...</td>\n",
       "      <td>...</td>\n",
       "      <td>...</td>\n",
       "      <td>...</td>\n",
       "      <td>...</td>\n",
       "      <td>...</td>\n",
       "      <td>...</td>\n",
       "    </tr>\n",
       "    <tr>\n",
       "      <th>391</th>\n",
       "      <td>2022</td>\n",
       "      <td>12</td>\n",
       "      <td>3.5177</td>\n",
       "      <td>0.0685</td>\n",
       "      <td>3.25</td>\n",
       "      <td>0.0</td>\n",
       "      <td>0.0</td>\n",
       "      <td>-0.2677</td>\n",
       "    </tr>\n",
       "    <tr>\n",
       "      <th>392</th>\n",
       "      <td>2022</td>\n",
       "      <td>12</td>\n",
       "      <td>3.5177</td>\n",
       "      <td>0.0685</td>\n",
       "      <td>3.25</td>\n",
       "      <td>0.0</td>\n",
       "      <td>0.0</td>\n",
       "      <td>-0.2677</td>\n",
       "    </tr>\n",
       "    <tr>\n",
       "      <th>393</th>\n",
       "      <td>2022</td>\n",
       "      <td>12</td>\n",
       "      <td>3.5177</td>\n",
       "      <td>0.0685</td>\n",
       "      <td>3.25</td>\n",
       "      <td>0.0</td>\n",
       "      <td>0.0</td>\n",
       "      <td>-0.2677</td>\n",
       "    </tr>\n",
       "    <tr>\n",
       "      <th>394</th>\n",
       "      <td>2022</td>\n",
       "      <td>12</td>\n",
       "      <td>3.5177</td>\n",
       "      <td>0.0685</td>\n",
       "      <td>3.25</td>\n",
       "      <td>0.0</td>\n",
       "      <td>0.0</td>\n",
       "      <td>-0.2677</td>\n",
       "    </tr>\n",
       "    <tr>\n",
       "      <th>395</th>\n",
       "      <td>2022</td>\n",
       "      <td>12</td>\n",
       "      <td>3.5177</td>\n",
       "      <td>0.0685</td>\n",
       "      <td>3.25</td>\n",
       "      <td>0.0</td>\n",
       "      <td>0.0</td>\n",
       "      <td>-0.2677</td>\n",
       "    </tr>\n",
       "  </tbody>\n",
       "</table>\n",
       "<p>396 rows × 8 columns</p>\n",
       "</div>"
      ],
      "text/plain": [
       "     Year  Month  Current_Rate_US  Change_From_Last_Month_US  \\\n",
       "0    2023     12           3.6008                    -0.0368   \n",
       "1    2023     12           3.6008                    -0.0368   \n",
       "2    2023     12           3.6008                    -0.0368   \n",
       "3    2023     12           3.6008                    -0.0368   \n",
       "4    2023     12           3.6008                    -0.0368   \n",
       "..    ...    ...              ...                        ...   \n",
       "391  2022     12           3.5177                     0.0685   \n",
       "392  2022     12           3.5177                     0.0685   \n",
       "393  2022     12           3.5177                     0.0685   \n",
       "394  2022     12           3.5177                     0.0685   \n",
       "395  2022     12           3.5177                     0.0685   \n",
       "\n",
       "     Current_Rate_Israel  Change_From_Last_Month_Israel  Change_Percentage  \\\n",
       "0                   4.75                            0.0                0.0   \n",
       "1                   4.75                            0.0                0.0   \n",
       "2                   4.75                            0.0                0.0   \n",
       "3                   4.75                            0.0                0.0   \n",
       "4                   4.75                            0.0                0.0   \n",
       "..                   ...                            ...                ...   \n",
       "391                 3.25                            0.0                0.0   \n",
       "392                 3.25                            0.0                0.0   \n",
       "393                 3.25                            0.0                0.0   \n",
       "394                 3.25                            0.0                0.0   \n",
       "395                 3.25                            0.0                0.0   \n",
       "\n",
       "     Rate_Difference  \n",
       "0             1.1492  \n",
       "1             1.1492  \n",
       "2             1.1492  \n",
       "3             1.1492  \n",
       "4             1.1492  \n",
       "..               ...  \n",
       "391          -0.2677  \n",
       "392          -0.2677  \n",
       "393          -0.2677  \n",
       "394          -0.2677  \n",
       "395          -0.2677  \n",
       "\n",
       "[396 rows x 8 columns]"
      ]
     },
     "execution_count": 32,
     "metadata": {},
     "output_type": "execute_result"
    }
   ],
   "source": [
    "# B - 2\n",
    "merged_df['Rate_Difference'] = merged_df['Current_Rate_Israel'] - merged_df['Current_Rate_US']\n",
    "merged_df"
   ]
  },
  {
   "cell_type": "code",
   "execution_count": null,
   "id": "c6dcf835650149bf",
   "metadata": {
    "ExecuteTime": {
     "end_time": "2024-11-07T00:06:10.259079Z",
     "start_time": "2024-11-07T00:06:10.257004Z"
    }
   },
   "outputs": [
    {
     "name": "stdout",
     "output_type": "stream",
     "text": [
      "   Year  Month  Rate_Difference Rate_Comparison\n",
      "0  2023     12           1.1492              IH\n",
      "1  2023     12           1.1492              IH\n",
      "2  2023     12           1.1492              IH\n",
      "3  2023     12           1.1492              IH\n",
      "4  2023     12           1.1492              IH\n"
     ]
    }
   ],
   "source": [
    "# B - 3\n",
    "import numpy as np\n",
    "conditions = [\n",
    "    (merged_df['Rate_Difference'] >= 1),\n",
    "    (merged_df['Rate_Difference'] <= -1)\n",
    "]\n",
    "choices = ['IH', 'UH']\n",
    "\n",
    "merged_df['Rate_Comparison'] = np.select(conditions, choices, default='N')\n",
    "\n",
    "\n"
   ]
  },
  {
   "cell_type": "code",
   "execution_count": 37,
   "id": "3145d351d7cbe982",
   "metadata": {
    "ExecuteTime": {
     "end_time": "2024-11-07T00:06:12.381548Z",
     "start_time": "2024-11-07T00:06:12.379873Z"
    }
   },
   "outputs": [
    {
     "name": "stdout",
     "output_type": "stream",
     "text": [
      "   Year  Month  Current_Rate_US  Change_From_Last_Month_US  \\\n",
      "0  2023     12           3.6008                    -0.0368   \n",
      "1  2023     12           3.6008                    -0.0368   \n",
      "2  2023     12           3.6008                    -0.0368   \n",
      "3  2023     12           3.6008                    -0.0368   \n",
      "4  2023     12           3.6008                    -0.0368   \n",
      "\n",
      "   Current_Rate_Israel  Change_From_Last_Month_Israel  Change_Percentage  \\\n",
      "0                 4.75                            0.0                0.0   \n",
      "1                 4.75                            0.0                0.0   \n",
      "2                 4.75                            0.0                0.0   \n",
      "3                 4.75                            0.0                0.0   \n",
      "4                 4.75                            0.0                0.0   \n",
      "\n",
      "   Rate_Difference Rate_Comparison  Current_Rate  \n",
      "0           1.1492              IH        3.6008  \n",
      "1           1.1492              IH        3.6008  \n",
      "2           1.1492              IH        3.6008  \n",
      "3           1.1492              IH        3.6008  \n",
      "4           1.1492              IH        3.6008  \n"
     ]
    }
   ],
   "source": [
    "# B - 4\n",
    "final_df = pd.merge(merged_df, exchange_df[['Year', 'Month', 'Current_Rate']], on=['Year', 'Month'], how='inner', suffixes=('', '_Exchange'))\n",
    "print(final_df.head())\n"
   ]
  },
  {
   "cell_type": "code",
   "execution_count": null,
   "id": "fe04eba74c68ab35",
   "metadata": {
    "ExecuteTime": {
     "end_time": "2024-11-07T00:06:37.878612Z",
     "start_time": "2024-11-07T00:06:37.876775Z"
    }
   },
   "outputs": [
    {
     "name": "stdout",
     "output_type": "stream",
     "text": [
      "Correlation between Rate_Difference and USD to ILS exchange rate: 0.4321405970344256\n"
     ]
    }
   ],
   "source": [
    "# B - 5\n",
    "correlation = final_df[['Rate_Difference', 'Current_Rate']].corr().iloc[0, 1]\n",
    "print(\"Correlation:\", correlation)\n",
    "\n"
   ]
  },
  {
   "cell_type": "code",
   "execution_count": null,
   "id": "48d876ac1bc8092",
   "metadata": {},
   "outputs": [],
   "source": []
  },
  {
   "cell_type": "markdown",
   "id": "22213f81bdf06965",
   "metadata": {},
   "source": [
    "## Part C: Analyzing Relationships Between DataFrames\n",
    "1. Analyze whether increases in US interest rates are associated with increases or decreases in the USD to ILS exchange rate in the same month.\n",
    "\n",
    "2. Determine if changes in the Israeli interest rate have a stronger impact on the exchange rate than changes in the US interest rate.\n",
    "\n",
    "3. Find any time lags in the effect of interest rate changes on the exchange rate. For example, does a change in US interest rates affect the exchange rate in the following month?\n",
    "(כלומר- האם כשיש שינוי בריבית כלשהי - האם מייד יש שינוי בשער ההמרה? או שיש דיליי של חודש/חודשים עד שמרגישים את ההשפעה - אם בכלל?)\n",
    "\n",
    "4. Calculate the rolling past 3-month average of the exchange rate for each data time, and add it as a new column.\n",
    "\n",
    "5. Identify any periods where both US and Israeli interest rates were decreasing, and analyze how the exchange rate behaved during those periods.\n",
    "\n"
   ]
  },
  {
   "cell_type": "code",
   "execution_count": null,
   "id": "706a690fd803211c",
   "metadata": {},
   "outputs": [],
   "source": [
    "# Bonus "
   ]
  },
  {
   "cell_type": "markdown",
   "id": "8be22debf92d8f3a",
   "metadata": {},
   "source": [
    "# Bonus\n",
    "choose 3 global / local events or periods that you think could have affected the exchange rate or interest rates\n",
    "and analyze the effect of these events on the data you collected.\n",
    "show proof of your analysis that supports your claim.\n",
    "\n",
    "(כלומר- תבחנו אירועים שקרו בתקופה שאתם עובדים עליה ובדקו איך הם השפיעו על הנתונים שאתם עובדים איתם)\n",
    "למשל: בחירות בארה״ב, בחירות בישראל, רוסיה אוקראינה, מלחמות בישראל וכו׳."
   ]
  },
  {
   "cell_type": "code",
   "execution_count": null,
   "id": "7cd992b43f3700e8",
   "metadata": {},
   "outputs": [],
   "source": [
    "# Your code here"
   ]
  }
 ],
 "metadata": {
  "kernelspec": {
   "display_name": ".venv",
   "language": "python",
   "name": "python3"
  },
  "language_info": {
   "codemirror_mode": {
    "name": "ipython",
    "version": 3
   },
   "file_extension": ".py",
   "mimetype": "text/x-python",
   "name": "python",
   "nbconvert_exporter": "python",
   "pygments_lexer": "ipython3",
   "version": "3.13.0"
  }
 },
 "nbformat": 4,
 "nbformat_minor": 5
}
